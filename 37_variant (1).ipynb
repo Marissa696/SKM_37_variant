{
 "cells": [
  {
   "cell_type": "markdown",
   "id": "c4c9a035",
   "metadata": {},
   "source": [
    "1. Импорт библиотек"
   ]
  },
  {
   "cell_type": "code",
   "execution_count": 32,
   "id": "7257aac5",
   "metadata": {},
   "outputs": [],
   "source": [
    "import numpy as np\n",
    "import matplotlib.pyplot as plt\n",
    "from scipy.optimize import brentq"
   ]
  },
  {
   "cell_type": "markdown",
   "id": "ef629ce0",
   "metadata": {},
   "source": [
    "2. Запишем исходные данные: t - возраст (в неделях) особи женского пола; l_t - вероятность дожития до этого возраста; m_t - среднее число потомков женского пола, рожденных одной особью в этом возрасте."
   ]
  },
  {
   "cell_type": "markdown",
   "id": "897ee16b",
   "metadata": {},
   "source": [
    "| t | l_t | m_t |\n",
    "|----|-----|-----|\n",
    "| 4.5| 0.87| 20.0|\n",
    "| 5.5| 0.83| 23.0|\n",
    "| 6.5| 0.81| 15.0|\n",
    "| 7.5| 0.80| 12.5|\n",
    "| 8.5| 0.79| 12.5|\n",
    "| 9.5| 0.77| 14.0|\n",
    "|10.5| 0.74| 12.5|\n",
    "|11.5| 0.66| 14.5|\n",
    "|12.5| 0.59| 11.0|\n",
    "|13.5| 0.52|  9.5|\n",
    "|14.5| 0.45|  2.5|\n",
    "|15.5| 0.36|  2.5|\n",
    "|16.5| 0.29|  2.5|\n",
    "|17.5| 0.25|  4.0|\n",
    "|18.5| 0.19|  1.0|"
   ]
  },
  {
   "cell_type": "code",
   "execution_count": 2,
   "id": "e7b2335a",
   "metadata": {},
   "outputs": [],
   "source": [
    "t=[4.5, 5.5, 6.5, 7.5, 8.5, 9.5, 10.5, 11.5, 12.5, 13.5, 14.5, 15.5, 16.5, 17.5, 18.5]\n",
    "l_t=[0.87, 0.83, 0.81, 0.80, 0.79, 0.77, 0.74, 0.66, 0.59, 0.52, 0.45, 0.36, 0.29, 0.25, 0.19]\n",
    "m_t=[20.0, 23.0, 15.0, 12.5, 12.5, 14.0, 12.5, 14.5, 11.0, 9.5, 2.5, 2.5, 2.5, 4.0, 1.0]"
   ]
  },
  {
   "cell_type": "markdown",
   "id": "1fc7f3aa",
   "metadata": {},
   "source": [
    "3. По данным найдём чистый коэффициент воспроизводства (net reproduction rate) по формуле $$ R_0 = \\sum_{t} l_tm_t $$"
   ]
  },
  {
   "cell_type": "code",
   "execution_count": 27,
   "id": "6474654e",
   "metadata": {},
   "outputs": [
    {
     "name": "stdout",
     "output_type": "stream",
     "text": [
      "Чистый коэффицент производства = 113.48499999999997\n"
     ]
    }
   ],
   "source": [
    "R0=0\n",
    "i=1\n",
    "for i in range(len(t)):\n",
    "    R0=R0+l_t[i]*m_t[i]\n",
    "print(\"Чистый коэффицент производства = \" + str(R0))"
   ]
  },
  {
   "cell_type": "markdown",
   "id": "1d381f5b",
   "metadata": {},
   "source": [
    "4. Построим график функции левой части уравнения: $$ \\sum_{t} e^{-rt}l_tm_t = 1 $$"
   ]
  },
  {
   "cell_type": "code",
   "execution_count": 29,
   "id": "2ef136ff",
   "metadata": {},
   "outputs": [
    {
     "data": {
      "image/png": "[encoded data removed]",
      "text/plain": [
       "<Figure size 432x288 with 1 Axes>"
      ]
     },
     "metadata": {
      "needs_background": "light"
     },
     "output_type": "display_data"
    }
   ],
   "source": [
    "r = np.linspace(0.5, 1, 100)\n",
    "# r - массив значений внутреннего коэффициента естественной репродукции (Intrinsic Rate of Natural Increase) r.\n",
    "\n",
    "rr = np.linspace(0, 0, 100)\n",
    "# rr - массив значений функции на соответствующем элементе массива r\n",
    "\n",
    "# для каждого r считаем значение функции rr\n",
    "for i in range(len(rr)):\n",
    "    for j in range(len(t)):\n",
    "        rr[i] += np.exp(-r[i] * t[j]) * l_t[j] * m_t[j]\n",
    "\n",
    "# объявим объект, чтобы нарисовать график\n",
    "graphic = plt.figure()\n",
    "gg = graphic.add_subplot(1, 1, 1)\n",
    "# добавим разметку\n",
    "gg.grid(which='both')\n",
    "# добавим график функции\n",
    "line = gg.plot(r, rr, 'm', label='rr(x)=rr(x) + exp^(-r*t)*l_t*t')\n",
    "# подпишем оси\n",
    "plt.xlabel(\"r\")\n",
    "plt.ylabel(\"rr(x)\")\n",
    "# добавим легенду графика функции\n",
    "gg.legend()\n",
    "# рисуем график\n",
    "plt.show()"
   ]
  },
  {
   "cell_type": "markdown",
   "id": "38c0b94f",
   "metadata": {},
   "source": [
    "5. Численно решим данное нелинейное уравнение, используя scipy.optimize.brentq."
   ]
  },
  {
   "cell_type": "code",
   "execution_count": 30,
   "id": "d23c3293",
   "metadata": {},
   "outputs": [],
   "source": [
    "def f(x):\n",
    "    R = 0 #переменная для нахождения r через R0\n",
    "    for i in range(len(t)):\n",
    "        R =R+np.exp(-x * t[i]) * l_t[i] * m_t[i]\n",
    "    R -= 1\n",
    "    return R"
   ]
  },
  {
   "cell_type": "code",
   "execution_count": 31,
   "id": "a6ee0408",
   "metadata": {},
   "outputs": [
    {
     "name": "stdout",
     "output_type": "stream",
     "text": [
      "внутренний коэффициент естественной репродукции r = 0.7619840766979892\n"
     ]
    }
   ],
   "source": [
    "solution = brentq(f, a=0.5, b=1)\n",
    "print(\"внутренний коэффициент естественной репродукции r = \" + str(solution))"
   ]
  },
  {
   "cell_type": "markdown",
   "id": "7ac206ad",
   "metadata": {},
   "source": [
    "# Вывод"
   ]
  },
  {
   "cell_type": "markdown",
   "id": "372fa181",
   "metadata": {},
   "source": [
    "В данной работе я высчитала внутренний коэффициент естественной репродукции (r) особей рисового жука долгоносика (Calandra oryzae), выращиваемых в оптимальных условиях (29 градусов C, пшеница, 14% влажность), по данным из статьи [Birch L.C. The intrinsic rate of natural increase of an insect population. The Journal of Animal Ecology (1948): 15-26]."
   ]
  },
  {
   "cell_type": "markdown",
   "id": "72046772",
   "metadata": {},
   "source": [
    "Для этого я использовала формулу: $ R_0 = \\sum_{t} l_tm_t $.\n",
    "(t - возраст (в неделях) особи женского пола; l_t - вероятность дожития до этого возраста; m_t - среднее число потомков женского пола, рожденных одной особью в этом возрасте.)"
   ]
  },
  {
   "cell_type": "markdown",
   "id": "ef557d5f",
   "metadata": {},
   "source": [
    "Я выяснила, что чистый коэффициент воспроизводства $R_0$ = 113.48499999999997 (113.48)."
   ]
  },
  {
   "cell_type": "markdown",
   "id": "285086b7",
   "metadata": {},
   "source": [
    "После этого я построила график функции левой части уравнения $ \\sum_{t} e^{-rt}l_tm_t = 1 $, чтобы вычислить внутренний коэффицент естественной репродукции (r)."
   ]
  },
  {
   "cell_type": "markdown",
   "id": "291e2211",
   "metadata": {},
   "source": [
    "Затем, численно решила данное нелинейное уравнение, используя scipy.optimize.brentq, и вычислила внутренний коэффициент естественной репродукции r = 0.7619840766979892 (0.7620)."
   ]
  }
 ],
 "metadata": {
  "kernelspec": {
   "display_name": "Python 3 (ipykernel)",
   "language": "python",
   "name": "python3"
  },
  "language_info": {
   "codemirror_mode": {
    "name": "ipython",
    "version": 3
   },
   "file_extension": ".py",
   "mimetype": "text/x-python",
   "name": "python",
   "nbconvert_exporter": "python",
   "pygments_lexer": "ipython3",
   "version": "3.9.7"
  }
 },
 "nbformat": 4,
 "nbformat_minor": 5
}
